{
 "cells": [
  {
   "cell_type": "code",
   "execution_count": 45,
   "metadata": {},
   "outputs": [
    {
     "name": "stdout",
     "output_type": "stream",
     "text": [
      "CPU times: user 4.15 s, sys: 536 ms, total: 4.69 s\n",
      "Wall time: 2.8 s\n"
     ]
    }
   ],
   "source": [
    "import torch\n",
    "import time\n",
    "import numba\n",
    "import numpy as np\n",
    "\n",
    "def each(i):\n",
    "    x = torch.randn(100, 100)\n",
    "    mask = (torch.randn(100, 100)>0.1)\n",
    "    x_hat = x[~mask]\n",
    "        # print(x_hat.shape)\n",
    "    linear = torch.nn.Linear(x_hat.shape[0], x_hat.shape[0])\n",
    "    out = linear(x_hat)\n",
    "    \n",
    "def function():\n",
    "    for i in range(10):\n",
    "        each(i)\n",
    "\n",
    "%time function()"
   ]
  },
  {
   "cell_type": "code",
   "execution_count": 46,
   "metadata": {},
   "outputs": [
    {
     "ename": "TypeError",
     "evalue": "ufunc 'function_jit' not supported for the input types, and the inputs could not be safely coerced to any supported types according to the casting rule ''safe''",
     "output_type": "error",
     "traceback": [
      "\u001b[0;31m---------------------------------------------------------------------------\u001b[0m",
      "\u001b[0;31mTypeError\u001b[0m                                 Traceback (most recent call last)",
      "\u001b[0;32m<timed eval>\u001b[0m in \u001b[0;36m<module>\u001b[0;34m\u001b[0m\n",
      "\u001b[0;31mTypeError\u001b[0m: ufunc 'function_jit' not supported for the input types, and the inputs could not be safely coerced to any supported types according to the casting rule ''safe''"
     ]
    }
   ],
   "source": [
    "from numba import cuda\n",
    "from numba import *\n",
    "@vectorize([], target='parallel')\n",
    "def each(i):\n",
    "    x = torch.randn(100, 100)\n",
    "    mask = (torch.randn(100, 100)>0.1)\n",
    "    x_hat = x[~mask]\n",
    "        # print(x_hat.shape)\n",
    "    linear = torch.nn.Linear(x_hat.shape[0], x_hat.shape[0])\n",
    "    out = linear(x_hat)\n",
    "    \n",
    "def function_jit():\n",
    "    for i in range(10):\n",
    "        each(i)\n",
    "        \n",
    "%time function_jit()"
   ]
  },
  {
   "cell_type": "code",
   "execution_count": null,
   "metadata": {},
   "outputs": [],
   "source": []
  }
 ],
 "metadata": {
  "kernelspec": {
   "display_name": "Python 3",
   "language": "python",
   "name": "python3"
  },
  "language_info": {
   "codemirror_mode": {
    "name": "ipython",
    "version": 3
   },
   "file_extension": ".py",
   "mimetype": "text/x-python",
   "name": "python",
   "nbconvert_exporter": "python",
   "pygments_lexer": "ipython3",
   "version": "3.7.1"
  }
 },
 "nbformat": 4,
 "nbformat_minor": 2
}
